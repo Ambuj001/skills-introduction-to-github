{
  "nbformat": 4,
  "nbformat_minor": 0,
  "metadata": {
    "colab": {
      "provenance": [],
      "authorship_tag": "ABX9TyNmcuHpujVw9q3gEqxWAQoX",
      "include_colab_link": true
    },
    "kernelspec": {
      "name": "python3",
      "display_name": "Python 3"
    },
    "language_info": {
      "name": "python"
    }
  },
  "cells": [
    {
      "cell_type": "markdown",
      "metadata": {
        "id": "view-in-github",
        "colab_type": "text"
      },
      "source": [
        "<a href=\"https://colab.research.google.com/github/Ambuj001/skills-introduction-to-github/blob/main/dsa_2025.ipynb\" target=\"_parent\"><img src=\"https://colab.research.google.com/assets/colab-badge.svg\" alt=\"Open In Colab\"/></a>"
      ]
    },
    {
      "cell_type": "code",
      "execution_count": null,
      "metadata": {
        "id": "c1QbIl0daIrr",
        "colab": {
          "base_uri": "https://localhost:8080/"
        },
        "outputId": "2e9064fd-1492-4c4e-9802-0cb08b443f8c"
      },
      "outputs": [
        {
          "output_type": "stream",
          "name": "stdout",
          "text": [
            "banana\n",
            "orange\n",
            "apple\n"
          ]
        }
      ],
      "source": [
        "def my_fruit(food):\n",
        "  for i in food:\n",
        "    print(i)\n",
        "\n",
        "fruits=[\"banana\", \"orange\", \"apple\"]\n",
        "\n",
        "my_fruit(fruits)"
      ]
    },
    {
      "cell_type": "code",
      "source": [
        "# passing values in a function using keyward\n",
        "\n",
        "def student (firstname, lastname):\n",
        "    print(firstname, lastname)\n",
        "\n",
        "student(lastname=\"tiwari\", firstname=\"ambuj\")"
      ],
      "metadata": {
        "id": "7XOdLIyZaLYj",
        "colab": {
          "base_uri": "https://localhost:8080/"
        },
        "outputId": "65e16abc-6757-41fc-8789-4ae0a227111c"
      },
      "execution_count": null,
      "outputs": [
        {
          "output_type": "stream",
          "name": "stdout",
          "text": [
            "ambuj tiwari\n"
          ]
        }
      ]
    },
    {
      "cell_type": "code",
      "source": [
        "# positional argument\n",
        "\n",
        "def my_detail(name,age):\n",
        "  print(\"i am \", name)\n",
        "  print(\"my age is\", age)\n",
        "\n",
        "my_detail(\"ambuj\",\"20\")"
      ],
      "metadata": {
        "colab": {
          "base_uri": "https://localhost:8080/"
        },
        "id": "4tEF8Cb7NMkf",
        "outputId": "f8e6d8df-b4b1-4447-c07e-1de843a9825b"
      },
      "execution_count": null,
      "outputs": [
        {
          "output_type": "stream",
          "name": "stdout",
          "text": [
            "i am  ambuj\n",
            "my age is 20\n"
          ]
        }
      ]
    },
    {
      "cell_type": "markdown",
      "source": [
        "# **classes and objects in python**"
      ],
      "metadata": {
        "id": "bE78WzVwOuW5"
      }
    },
    {
      "cell_type": "code",
      "source": [
        "class myclass:\n",
        "  y=10\n",
        "  z=20\n",
        "  # for  creating object we will use class name myclass\n",
        "\n",
        "s1=myclass()\n",
        "print(s1.y)\n",
        "print(s1.z)\n",
        "print(s1.y+s1.z)"
      ],
      "metadata": {
        "colab": {
          "base_uri": "https://localhost:8080/"
        },
        "id": "QRy_8WLlOEBG",
        "outputId": "1dba61bc-a3f8-4004-ad3d-e3dbe76f9add"
      },
      "execution_count": null,
      "outputs": [
        {
          "output_type": "stream",
          "name": "stdout",
          "text": [
            "10\n",
            "20\n",
            "30\n"
          ]
        }
      ]
    },
    {
      "cell_type": "code",
      "source": [
        "the__ init__() function\n",
        "it automatically initializes object attribuits when object is created"
      ],
      "metadata": {
        "id": "F-L2xkh4ScWk"
      },
      "execution_count": null,
      "outputs": []
    },
    {
      "cell_type": "code",
      "source": [
        "class student:\n",
        "  college=\"IIT PATNA\"\n",
        "  def __init__(self,name,age):\n",
        "    self.name=name\n",
        "    self.age=age\n",
        "\n",
        "s1=student(\"ambuj\",20) # its an object\n",
        "s2=student(\"rajesh\",25)\n",
        "print(s1.name)\n",
        "print(s1.college)\n",
        "print(s2.name)\n",
        "print(s2.college)\n",
        "\n",
        "\n",
        "\n",
        "#output we need that s1 names and age.\n",
        "#s2 name and age\n"
      ],
      "metadata": {
        "colab": {
          "base_uri": "https://localhost:8080/"
        },
        "id": "KVzRs3tfVaDE",
        "outputId": "0f9b0197-e803-4c57-876d-76e458119a5a"
      },
      "execution_count": null,
      "outputs": [
        {
          "output_type": "stream",
          "name": "stdout",
          "text": [
            "ambuj\n",
            "IIT PATNA\n",
            "rajesh\n",
            "IIT PATNA\n"
          ]
        }
      ]
    },
    {
      "cell_type": "markdown",
      "source": [
        "**29/01/25**\n"
      ],
      "metadata": {
        "id": "bAbUOw8lcnMF"
      }
    },
    {
      "cell_type": "code",
      "source": [
        "#private variable and methods\n",
        "class Account:\n",
        "  def __init__(self,balance):\n",
        "    self.__balance=balance\n",
        "\n",
        "def get_balance(self):\n",
        "    return self.__balance\n",
        "\n",
        "acc=Account(500)\n",
        "\n",
        "print(acc.get_balance())"
      ],
      "metadata": {
        "id": "haKRZBLnW52r",
        "colab": {
          "base_uri": "https://localhost:8080/",
          "height": 176
        },
        "outputId": "4bdbe9ae-1f73-4cde-b550-22df1fb1b848"
      },
      "execution_count": null,
      "outputs": [
        {
          "output_type": "error",
          "ename": "AttributeError",
          "evalue": "'Account' object has no attribute 'get__balance'",
          "traceback": [
            "\u001b[0;31m---------------------------------------------------------------------------\u001b[0m",
            "\u001b[0;31mAttributeError\u001b[0m                            Traceback (most recent call last)",
            "\u001b[0;32m<ipython-input-9-6ecbc75afb44>\u001b[0m in \u001b[0;36m<cell line: 0>\u001b[0;34m()\u001b[0m\n\u001b[1;32m      9\u001b[0m \u001b[0macc\u001b[0m\u001b[0;34m=\u001b[0m\u001b[0mAccount\u001b[0m\u001b[0;34m(\u001b[0m\u001b[0;36m500\u001b[0m\u001b[0;34m)\u001b[0m\u001b[0;34m\u001b[0m\u001b[0;34m\u001b[0m\u001b[0m\n\u001b[1;32m     10\u001b[0m \u001b[0;34m\u001b[0m\u001b[0m\n\u001b[0;32m---> 11\u001b[0;31m \u001b[0mprint\u001b[0m\u001b[0;34m(\u001b[0m\u001b[0macc\u001b[0m\u001b[0;34m.\u001b[0m\u001b[0mget__balance\u001b[0m\u001b[0;34m(\u001b[0m\u001b[0;34m)\u001b[0m\u001b[0;34m)\u001b[0m\u001b[0;34m\u001b[0m\u001b[0;34m\u001b[0m\u001b[0m\n\u001b[0m",
            "\u001b[0;31mAttributeError\u001b[0m: 'Account' object has no attribute 'get__balance'"
          ]
        }
      ]
    },
    {
      "cell_type": "code",
      "source": [
        "# example for protected variabe and method in class\n",
        "\n",
        "class BankAccount:\n",
        "  def __init__(self,account_Holder, balance):\n",
        "    self._account_holder = account_holder\n",
        "    self._balance=balance\n",
        "\n",
        "    def __calculateinterest(self):\n",
        "      return self_.balance*0.06\n",
        "\n",
        "    def show_balance(self):\n",
        "      print(f\"Account Holder: {self.account_holder}\")\n",
        "      print(f\"Balance: {self.balance}\")\n",
        "      print(f\"Interest: {self>_calculateinterest()}\")\n",
        "\n",
        "\n",
        "# create a object\n",
        "\n",
        "account=BankAccount(\"ambuj\",5800)\n",
        "print(account.account_holder)\n",
        "print(account._balance)\n",
        "print(account._calculateinterest())\n"
      ],
      "metadata": {
        "colab": {
          "base_uri": "https://localhost:8080/",
          "height": 332
        },
        "id": "Y4yYrPaAeZCW",
        "outputId": "46e311da-3507-4f53-b436-f1131e19111a"
      },
      "execution_count": null,
      "outputs": [
        {
          "output_type": "error",
          "ename": "NameError",
          "evalue": "name 'account_holder' is not defined",
          "traceback": [
            "\u001b[0;31m---------------------------------------------------------------------------\u001b[0m",
            "\u001b[0;31mNameError\u001b[0m                                 Traceback (most recent call last)",
            "\u001b[0;32m<ipython-input-17-2999aa5b87c8>\u001b[0m in \u001b[0;36m<cell line: 0>\u001b[0;34m()\u001b[0m\n\u001b[1;32m     17\u001b[0m \u001b[0;31m# create a object\u001b[0m\u001b[0;34m\u001b[0m\u001b[0;34m\u001b[0m\u001b[0m\n\u001b[1;32m     18\u001b[0m \u001b[0;34m\u001b[0m\u001b[0m\n\u001b[0;32m---> 19\u001b[0;31m \u001b[0maccount\u001b[0m\u001b[0;34m=\u001b[0m\u001b[0mBankAccount\u001b[0m\u001b[0;34m(\u001b[0m\u001b[0;34m\"ambuj\"\u001b[0m\u001b[0;34m,\u001b[0m\u001b[0;36m5800\u001b[0m\u001b[0;34m)\u001b[0m\u001b[0;34m\u001b[0m\u001b[0;34m\u001b[0m\u001b[0m\n\u001b[0m\u001b[1;32m     20\u001b[0m \u001b[0mprint\u001b[0m\u001b[0;34m(\u001b[0m\u001b[0maccount\u001b[0m\u001b[0;34m.\u001b[0m\u001b[0maccount_holder\u001b[0m\u001b[0;34m)\u001b[0m\u001b[0;34m\u001b[0m\u001b[0;34m\u001b[0m\u001b[0m\n\u001b[1;32m     21\u001b[0m \u001b[0mprint\u001b[0m\u001b[0;34m(\u001b[0m\u001b[0maccount\u001b[0m\u001b[0;34m.\u001b[0m\u001b[0m_balance\u001b[0m\u001b[0;34m)\u001b[0m\u001b[0;34m\u001b[0m\u001b[0;34m\u001b[0m\u001b[0m\n",
            "\u001b[0;32m<ipython-input-17-2999aa5b87c8>\u001b[0m in \u001b[0;36m__init__\u001b[0;34m(self, account_Holder, balance)\u001b[0m\n\u001b[1;32m      3\u001b[0m \u001b[0;32mclass\u001b[0m \u001b[0mBankAccount\u001b[0m\u001b[0;34m:\u001b[0m\u001b[0;34m\u001b[0m\u001b[0;34m\u001b[0m\u001b[0m\n\u001b[1;32m      4\u001b[0m   \u001b[0;32mdef\u001b[0m \u001b[0m__init__\u001b[0m\u001b[0;34m(\u001b[0m\u001b[0mself\u001b[0m\u001b[0;34m,\u001b[0m\u001b[0maccount_Holder\u001b[0m\u001b[0;34m,\u001b[0m \u001b[0mbalance\u001b[0m\u001b[0;34m)\u001b[0m\u001b[0;34m:\u001b[0m\u001b[0;34m\u001b[0m\u001b[0;34m\u001b[0m\u001b[0m\n\u001b[0;32m----> 5\u001b[0;31m     \u001b[0mself\u001b[0m\u001b[0;34m.\u001b[0m\u001b[0m_account_holder\u001b[0m\u001b[0;34m=\u001b[0m\u001b[0maccount_holder\u001b[0m\u001b[0;34m\u001b[0m\u001b[0;34m\u001b[0m\u001b[0m\n\u001b[0m\u001b[1;32m      6\u001b[0m     \u001b[0mself\u001b[0m\u001b[0;34m.\u001b[0m\u001b[0mbalance\u001b[0m\u001b[0;34m=\u001b[0m\u001b[0mbalance\u001b[0m\u001b[0;34m\u001b[0m\u001b[0;34m\u001b[0m\u001b[0m\n\u001b[1;32m      7\u001b[0m \u001b[0;34m\u001b[0m\u001b[0m\n",
            "\u001b[0;31mNameError\u001b[0m: name 'account_holder' is not defined"
          ]
        }
      ]
    },
    {
      "cell_type": "markdown",
      "source": [
        "# 04 feb 2025\n"
      ],
      "metadata": {
        "id": "PSDhPgMAWe_j"
      }
    },
    {
      "cell_type": "code",
      "source": [
        "#Inheritence\n",
        "# it allows us to define a class that inherits all the methods and properties from another class\n",
        "#parant Class : A class being inherited also  known as base class\n",
        "# child calss: the that inherites from another class, also known as deived class.\n",
        "\n",
        "class person:\n",
        "  def __init__(self, fname, lname):\n",
        "    self.firstname=fname\n",
        "    self.lastname= lname\n",
        "\n",
        "  def printname(self):\n",
        "    print(self.firstname, self.lastname)\n",
        "\n",
        "P1= person(\"ambuj\", \"tiwari\")\n",
        "P1.printname()"
      ],
      "metadata": {
        "id": "UTJY6CgCh3Oy",
        "colab": {
          "base_uri": "https://localhost:8080/"
        },
        "outputId": "86f8f48e-c339-496a-bc06-82f37456fdd9"
      },
      "execution_count": null,
      "outputs": [
        {
          "output_type": "stream",
          "name": "stdout",
          "text": [
            "ambuj tiwari\n"
          ]
        }
      ]
    },
    {
      "cell_type": "code",
      "source": [
        "# create a child class\n",
        "\n",
        "class student(person):  #To inherite, parent class will be passed as a paramenter to child class\n",
        "  pass #pass is a keyword when you do not want to add any other properties to the class\n",
        "\n",
        "S1= student(\"ambuj\", \"tiwari\")\n",
        "S1.printname()"
      ],
      "metadata": {
        "colab": {
          "base_uri": "https://localhost:8080/"
        },
        "id": "JqI7q_PjSrKT",
        "outputId": "468a3084-9ffb-472b-9965-d1cea7842078"
      },
      "execution_count": null,
      "outputs": [
        {
          "output_type": "stream",
          "name": "stdout",
          "text": [
            "ambuj tiwari\n"
          ]
        }
      ]
    },
    {
      "cell_type": "code",
      "source": [
        "from re import S\n",
        "#create a child class\n",
        "\n",
        "class student(person):\n",
        "  def __init__(self, fname, lname,year):\n",
        "     super().__init__(fname,lname)\n",
        "     self.twelth_pass_year= year\n",
        "\n",
        "  def detail_print(self):\n",
        "    print(\"My Detail\",self.firstname, self.lastname, self.twelth_pass_year)\n",
        "\n",
        "S1=student(\"ambuj\", \"tiwari\", 2023)\n",
        "S1.detail_print()\n"
      ],
      "metadata": {
        "colab": {
          "base_uri": "https://localhost:8080/"
        },
        "id": "g17Uq3JXUAGJ",
        "outputId": "86297dde-94b2-4b32-838a-15d81fb284f7"
      },
      "execution_count": null,
      "outputs": [
        {
          "output_type": "stream",
          "name": "stdout",
          "text": [
            "My Detail ambuj tiwari 2023\n"
          ]
        }
      ]
    },
    {
      "cell_type": "markdown",
      "source": [
        "# ***05/02/2025***"
      ],
      "metadata": {
        "id": "8uOBOadiWH3F"
      }
    },
    {
      "cell_type": "code",
      "source": [
        "# stack Implimentatation\n",
        "# stuck - A datastructure that may\n",
        "# push - Add a new element in the stack\n",
        "# Pop - Removes and return the top element from stack\n",
        "# Peek - It returns the top element on the stack ........\n",
        "# isEmpty - checks if the stack is empty\n",
        "\n",
        "# We will use link list for the implementation of stack.\n",
        "\n"
      ],
      "metadata": {
        "id": "Nb8A4iz8WSoh"
      },
      "execution_count": null,
      "outputs": []
    },
    {
      "cell_type": "code",
      "source": [
        "# programme to create link stack using list\n",
        "\n",
        "stack_fruite=[]\n",
        "#Push\n",
        "stack_fruite.append(\"Apple\")\n",
        "stack_fruite.append(\"banana\")\n",
        "stack_fruite.append(\"orange\")\n",
        "\n",
        "print(stack_fruite)\n",
        "\n",
        "#pop\n",
        "ele=stack_fruite.pop()\n",
        "print(\"Top Element\", ele)\n",
        "\n",
        "#peek\n",
        "\n",
        "top=stack_fruite[-1]\n",
        "print(\"pop:\", top)\n",
        "\n",
        "#Si Empty stack\n",
        "isEmpty= not bool(stack_fruite)\n",
        "print(isEmpty)"
      ],
      "metadata": {
        "id": "E0xjLkmgZleK",
        "colab": {
          "base_uri": "https://localhost:8080/"
        },
        "outputId": "5d1045a1-fbb8-4a50-de8f-043c5e48be73"
      },
      "execution_count": null,
      "outputs": [
        {
          "output_type": "stream",
          "name": "stdout",
          "text": [
            "['Apple', 'banana', 'orange']\n",
            "Top Element orange\n",
            "pop: banana\n",
            "False\n"
          ]
        }
      ]
    },
    {
      "cell_type": "code",
      "source": [
        "# sue Class to create a Stack\n",
        "\n",
        "class stack:\n",
        "  def __init__(self):\n",
        "    self.stack=[]\n",
        "\n",
        "  def push(self,element):\n",
        "    self.stack.append(element)\n",
        "\n",
        "  def pop(self):\n",
        "    if self.isEmpty():\n",
        "        return \"Stack is empty\"\n",
        "    return self.stack.pop()\n",
        "\n",
        "  def isEmpty(self):\n",
        "     return len(self.stack)==0\n",
        "\n",
        "\n",
        "# create a stack\n",
        "my_stack=stack()\n",
        "out=my_stack.pop()\n",
        "print(\"pop:\", out)"
      ],
      "metadata": {
        "colab": {
          "base_uri": "https://localhost:8080/"
        },
        "id": "-Pe5EGW2Y45L",
        "outputId": "6a95a25a-9929-47a8-c112-9e86091e816c"
      },
      "execution_count": null,
      "outputs": [
        {
          "output_type": "stream",
          "name": "stdout",
          "text": [
            "pop: Stack is empty\n"
          ]
        }
      ]
    },
    {
      "cell_type": "code",
      "source": [
        "# create a stack\n",
        "\n",
        "my_stack=stack()\n",
        "my_stack.push(\"Apple\")\n",
        "my_stack.push(\"banana\")\n",
        "my_stack.push(\"orange\")\n",
        "\n",
        "print(my_stack.stack)\n",
        "\n",
        "\n",
        "out=my_stack.pop()\n",
        "print(\"pop:\", out)\n",
        "\n",
        "out=my_stack.pop()\n",
        "print(\"pop:\", out)\n",
        "\n",
        "out=my_stack.pop()\n",
        "print(\"pop:\", out)"
      ],
      "metadata": {
        "colab": {
          "base_uri": "https://localhost:8080/"
        },
        "id": "_eR634WfcQNV",
        "outputId": "e4d1c0c7-cbb7-4592-a0c4-7901b15eefc4"
      },
      "execution_count": null,
      "outputs": [
        {
          "output_type": "stream",
          "name": "stdout",
          "text": [
            "['Apple', 'banana', 'orange']\n",
            "pop: orange\n",
            "pop: banana\n",
            "pop: Apple\n"
          ]
        }
      ]
    },
    {
      "cell_type": "code",
      "source": [
        "#Queue\n",
        "# A data structure that can store many element\n",
        "# Endqueue: Adds a new element to queoe\n",
        "# Dequeue: Removes and returns the first. (front)element form the queue\n",
        "# Peek: returns the first element\n",
        "# isEmpty: checks if the queue is empty\n",
        "\n",
        "# Cretation od Queue using class\n",
        "\n",
        "\n",
        "class Queue:\n",
        "  def __init__(self):\n",
        "    self.queue=[]\n",
        "\n",
        "  def endqueue(self,element):\n",
        "    self.queue.append(element)\n",
        "\n",
        "  def dequeue(self):\n",
        "    if self.isEmpty():\n",
        "      return \"Queue is empty\"\n",
        "    return self.queue.pop(0)\n",
        "\n",
        "  def peek(self):\n",
        "    if self.isEmpty():\n",
        "      return \"Queue is empty\"\n",
        "    return self.queue[0]\n",
        "\n",
        "\n",
        "\n",
        "\n",
        "  def isEmpty(self):\n",
        "    return len(self.queue)==0\n",
        "\n",
        "  # create a queue\n",
        "\n",
        "  my_Queue= Queue()\n",
        "\n",
        "  my_Queue.endqueue(\"ambuj\")\n",
        "  my_Queue.endqueue(\"ujjwal\")\n",
        "  my_Queue.endqueue(\"orange\")\n",
        "\n",
        "\n",
        "print(\"My student Queue\", my_Queue.queue)\n",
        "\n",
        "print(\"Deque\", my_Queue.dequeue())\n",
        "\n"
      ],
      "metadata": {
        "id": "ptnNgZq7eHw4"
      },
      "execution_count": null,
      "outputs": []
    },
    {
      "cell_type": "markdown",
      "source": [
        "# **11 feb / linklist**"
      ],
      "metadata": {
        "id": "sHt8sNs6OS75"
      }
    },
    {
      "cell_type": "code",
      "source": [
        "# link list\n",
        "# how to create link list\n",
        "\n",
        "class Node:\n",
        "  def __init__ (self,data):\n",
        "    self.data=data\n",
        "    self.next=None\n",
        "\n",
        "def traversal(head): #choose a head to start traversal\n",
        "  currentNode=head\n",
        "\n",
        "  print(currentNode.data, end=\"-->>>>>>>\")\n",
        "\n",
        "# create various objects as node\n",
        "\n",
        "node1=Node(2025)\n",
        "node2=Node(2024)\n",
        "node3=Node(2023)\n",
        "\n",
        "node1.next=node2\n",
        "node2.next=node3\n",
        "\n",
        "traversal(node1)"
      ],
      "metadata": {
        "id": "W-AiWyGSjmyc",
        "colab": {
          "base_uri": "https://localhost:8080/"
        },
        "outputId": "0745c7d6-1de2-42a3-ce7b-394ccab41aa5"
      },
      "execution_count": null,
      "outputs": [
        {
          "output_type": "stream",
          "name": "stdout",
          "text": [
            "2025-->>>>>>>"
          ]
        }
      ]
    },
    {
      "cell_type": "code",
      "source": [
        "def removeFirstNode(head):\n",
        "  if not head:\n",
        "    return None\n",
        "  temp=head.nexttemp=None\n",
        "  return head\n",
        "\n",
        "traversal(node1)\n",
        "head=removeFirstNode(node1)\n",
        "traversal(head)"
      ],
      "metadata": {
        "colab": {
          "base_uri": "https://localhost:8080/"
        },
        "id": "_RYBo-J4g39j",
        "outputId": "b3b52b11-03e9-40c2-b6d8-7568681a9384"
      },
      "execution_count": null,
      "outputs": [
        {
          "output_type": "stream",
          "name": "stdout",
          "text": [
            "2025-->>>>>>>2025-->>>>>>>"
          ]
        }
      ]
    },
    {
      "cell_type": "markdown",
      "source": [
        "# **12 feb**"
      ],
      "metadata": {
        "id": "RJXhHDP-e6yR"
      }
    },
    {
      "cell_type": "code",
      "source": [
        "class Node:\n",
        "    def __init__(self, data):\n",
        "        self.data = data\n",
        "        self.next = None\n",
        "\n",
        "def traversal(head):\n",
        "    currentNode = head\n",
        "    while currentNode:\n",
        "        print(currentNode.data, end=\" --> \")\n",
        "        currentNode = currentNode.next\n",
        "    print(\"None\")\n",
        "\n",
        "def delete_position(head, position):\n",
        "    if position == 1:\n",
        "        temp = head\n",
        "        head = head.next\n",
        "        temp = None  # Optional: explicitly set temp to None for garbage collection\n",
        "        return head\n",
        "\n",
        "    current = head\n",
        "    for _ in range(1, position - 1):\n",
        "        if current is None:\n",
        "            return head  # Position out of bounds\n",
        "        current = current.next\n",
        "\n",
        "    if current is not None and current.next is not None:\n",
        "        temp = current.next\n",
        "        current.next = current.next.next\n",
        "        temp = None  # Optional: explicitly set temp to None for garbage collection\n",
        "\n",
        "    return head\n",
        "\n",
        "# Example usage:\n",
        "node1 = Node(2025)\n",
        "node2 = Node(2024)\n",
        "node3 = Node(2023)\n",
        "\n",
        "node1.next = node2\n",
        "node2.next = node3\n",
        "\n",
        "print(\"Original Linked List:\")\n",
        "traversal(node1)\n",
        "\n",
        "node1 = delete_position(node1, 2)  # Delete node at position 2\n",
        "\n",
        "print(\"Linked List after deletion:\")\n",
        "traversal(node1)"
      ],
      "metadata": {
        "id": "mzlw5y6wg5Ve",
        "colab": {
          "base_uri": "https://localhost:8080/"
        },
        "outputId": "8528d05a-076f-4302-ec86-607547a63e5e"
      },
      "execution_count": null,
      "outputs": [
        {
          "output_type": "stream",
          "name": "stdout",
          "text": [
            "Original Linked List:\n",
            "2025 --> 2024 --> 2023 --> None\n",
            "Linked List after deletion:\n",
            "2025 --> 2023 --> None\n"
          ]
        }
      ]
    },
    {
      "cell_type": "code",
      "source": [
        "# inserertion of a node to an existing linked list (node 1)\n",
        "\n",
        "# insetion of a new node in the beginning of the existing linked list\n",
        "\n",
        "\n"
      ],
      "metadata": {
        "id": "03XhRf_JgQjC"
      },
      "execution_count": null,
      "outputs": []
    },
    {
      "cell_type": "markdown",
      "source": [
        "# 18 feb"
      ],
      "metadata": {
        "id": "OCGJxIzwSvhZ"
      }
    },
    {
      "cell_type": "code",
      "source": [
        "# Insert at a specific position of the singly linked list\n",
        "\n",
        "# function to insert a node at a specific position\n",
        "\n",
        "def insert_posi(head, pos, data):\n",
        "  if pos < 1:\n",
        "    print(\"invalid position\")\n",
        "    return head\n",
        "\n",
        "# Insertion at first position ie. as a hed node\n",
        "\n",
        "  if pos==1:\n",
        "    new_node.next=head\n",
        "    return new_node\n",
        "\n",
        "# Transverse to the list find the node before the insertion point\n",
        "\n",
        "  pre=head\n",
        "  count=1\n",
        "  while count < pos-1 and pre.next is not None:\n",
        "    pre=pre.next\n",
        "    count +=1\n",
        "\n",
        "#insert a new node at the specific position\n",
        "\n",
        "  new_node=Node(data)\n",
        "  new_node.next=pre.next\n",
        "  pre.next=new_node\n",
        "  return head\n",
        "\n",
        "\n",
        "  #calling of above function\n",
        "  head=insert_posi(nodel,3,\"Avi\")\n",
        "  traversal(head)\n"
      ],
      "metadata": {
        "id": "AB6s2h7vTXXQ"
      },
      "execution_count": null,
      "outputs": []
    },
    {
      "cell_type": "code",
      "source": [
        "# stack Implementation using Linked Lists\n",
        "\n",
        "# Dynamic Size: IT can grow and srink dynamically\n",
        "\n",
        "class Node:\n",
        "  def __init__(self,data):\n",
        "    self.data=data\n",
        "    self.next=None\n",
        "\n",
        "class Stack:\n",
        "  def __init__(self):\n",
        "    self.head=None\n",
        "    self.size= 0\n",
        "\n",
        "\n",
        "  def push(self,data):\n",
        "    new_node=Node(data)\n",
        "    new_node.next=self.head\n",
        "    self.head=new_node\n",
        "    self.size +=1\n",
        "\n",
        "    # calling above Linked List\n",
        "    my_stack=Stack()\n",
        "    my_stack.push(\"A\")\n",
        "    my_stack.push(\"B\")\n",
        "    my_stack.push(\"C\")\n",
        "\n",
        "\n",
        "  def traversal(head):\n",
        "    currentNode = head\n",
        "    while currentNode:\n",
        "        print(currentNode.data, end=\" --> \")\n",
        "        currentNode = currentNode.next\n",
        "    print(\"null\")\n",
        "\n"
      ],
      "metadata": {
        "colab": {
          "base_uri": "https://localhost:8080/",
          "height": 106
        },
        "id": "LdddMjWSax6v",
        "outputId": "a0d1a900-4153-427c-df88-d8d967ed8705"
      },
      "execution_count": null,
      "outputs": [
        {
          "output_type": "error",
          "ename": "SyntaxError",
          "evalue": "expected ':' (<ipython-input-2-0b1b578337ce>, line 5)",
          "traceback": [
            "\u001b[0;36m  File \u001b[0;32m\"<ipython-input-2-0b1b578337ce>\"\u001b[0;36m, line \u001b[0;32m5\u001b[0m\n\u001b[0;31m    class Node\u001b[0m\n\u001b[0m              ^\u001b[0m\n\u001b[0;31mSyntaxError\u001b[0m\u001b[0;31m:\u001b[0m expected ':'\n"
          ]
        }
      ]
    },
    {
      "cell_type": "code",
      "source": [],
      "metadata": {
        "id": "NZoOIiIWbVWO"
      },
      "execution_count": null,
      "outputs": []
    }
  ]
}